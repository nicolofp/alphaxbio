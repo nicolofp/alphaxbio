{
 "cells": [
  {
   "cell_type": "code",
   "execution_count": null,
   "metadata": {
    "executionInfo": {
     "elapsed": 7,
     "status": "ok",
     "timestamp": 1740010079859,
     "user": {
      "displayName": "Nicolò Foppa",
      "userId": "03766977134082314729"
     },
     "user_tz": 300
    },
    "id": "uK87163pqrSA"
   },
   "outputs": [],
   "source": [
    "import matplotlib.pyplot as plt\n",
    "import pymc as pm\n",
    "import pandas as pd\n",
    "import numpy as np\n",
    "\n",
    "RANDOM_SEED = 8927\n",
    "rng = np.random.default_rng(RANDOM_SEED)"
   ]
  },
  {
   "cell_type": "code",
   "execution_count": null,
   "metadata": {
    "executionInfo": {
     "elapsed": 3,
     "status": "ok",
     "timestamp": 1740010049903,
     "user": {
      "displayName": "Nicolò Foppa",
      "userId": "03766977134082314729"
     },
     "user_tz": 300
    },
    "id": "3gDlKa_HrDsV"
   },
   "outputs": [],
   "source": [
    "size = 300\n",
    "true_intercept = 0.78\n",
    "true_slope = 2.12\n",
    "\n",
    "x = np.linspace(0, 1, size)\n",
    "# y = a + b*x\n",
    "true_regression_line = true_intercept + true_slope * x\n",
    "# add noise\n",
    "y = true_regression_line + rng.normal(scale=0.5, size=size)\n",
    "\n",
    "data = pd.DataFrame({\"x\": x, \"y\": y})"
   ]
  },
  {
   "cell_type": "code",
   "execution_count": null,
   "metadata": {
    "colab": {
     "base_uri": "https://localhost:8080/",
     "height": 641
    },
    "executionInfo": {
     "elapsed": 1495,
     "status": "ok",
     "timestamp": 1740010083746,
     "user": {
      "displayName": "Nicolò Foppa",
      "userId": "03766977134082314729"
     },
     "user_tz": 300
    },
    "id": "DnofIPvJrlgl",
    "outputId": "5aa5719b-ac75-408a-cf19-0d0ffdae8029"
   },
   "outputs": [],
   "source": [
    "fig = plt.figure(figsize=(7, 7))\n",
    "ax = fig.add_subplot(111, xlabel=\"x\", ylabel=\"y\", title=\"Generated data and underlying model\")\n",
    "ax.plot(x, y, \"x\", label=\"sampled data\")\n",
    "ax.plot(x, true_regression_line, label=\"true regression line\", lw=2.0)\n",
    "plt.legend(loc=0);"
   ]
  },
  {
   "cell_type": "code",
   "execution_count": null,
   "metadata": {
    "colab": {
     "base_uri": "https://localhost:8080/",
     "height": 116,
     "referenced_widgets": [
      "d5474bc0f3b84bf49f08815a817da5e2",
      "511903c80d03432eb26ccf4e00643b26"
     ]
    },
    "executionInfo": {
     "elapsed": 43809,
     "status": "ok",
     "timestamp": 1740011110940,
     "user": {
      "displayName": "Nicolò Foppa",
      "userId": "03766977134082314729"
     },
     "user_tz": 300
    },
    "id": "ZfFDydrOt5oX",
    "outputId": "53bd77a4-a214-4996-be2c-d0ce197bbca8"
   },
   "outputs": [],
   "source": [
    "with pm.Model() as model:  # model specifications in PyMC are wrapped in a with-statement\n",
    "    # Define priors\n",
    "    sigma = pm.HalfCauchy(\"sigma\", beta=10)\n",
    "    intercept = pm.Normal(\"Intercept\", 0, sigma=20)\n",
    "    slope = pm.Normal(\"slope\", 0, sigma=20)\n",
    "\n",
    "    # Define likelihood\n",
    "    likelihood = pm.Normal(\"y\", mu=intercept + slope * x, sigma=sigma, observed=y)\n",
    "\n",
    "    # Inference!\n",
    "    # draw 3000 posterior samples using NUTS sampling\n",
    "    idata = pm.sample(3000)"
   ]
  }
 ],
 "metadata": {
  "colab": {
   "authorship_tag": "ABX9TyMIoEmG7stNTz+YU3iEXOLF",
   "provenance": []
  },
  "kernelspec": {
   "display_name": "Python 3",
   "name": "python3"
  },
  "language_info": {
   "name": "python"
  }
 },
 "nbformat": 4,
 "nbformat_minor": 0
}
