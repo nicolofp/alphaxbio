{
 "cells": [
  {
   "cell_type": "markdown",
   "metadata": {
    "id": "7WQ81gF-hAG-"
   },
   "source": [
    "# **Example**\n",
    "---\n",
    "test STAN using `cmdstanpy`"
   ]
  },
  {
   "cell_type": "code",
   "execution_count": null,
   "metadata": {
    "id": "8LPMJnyOg-DO"
   },
   "outputs": [],
   "source": [
    "# Load packages used in this notebook\n",
    "import os\n",
    "import json\n",
    "import shutil\n",
    "import urllib.request\n",
    "import pandas as pd\n",
    "import numpy as np\n",
    "\n",
    "from google.colab import drive\n",
    "drive.mount('/content/drive/', force_remount=True)"
   ]
  },
  {
   "cell_type": "code",
   "execution_count": null,
   "metadata": {
    "id": "9zlISMxrhYPq"
   },
   "outputs": [],
   "source": [
    "# Install package CmdStanPy\n",
    "!pip install --upgrade cmdstanpy"
   ]
  },
  {
   "cell_type": "code",
   "execution_count": null,
   "metadata": {
    "id": "lQAy0Lv1hZDU"
   },
   "outputs": [],
   "source": [
    "# Install pre-built CmdStan binary\n",
    "# (faster than compiling from source via install_cmdstan() function)\n",
    "tgz_file = 'colab-cmdstan-2.36.0.tar.gz'\n",
    "tgz_url = 'https://github.com/stan-dev/cmdstan/releases/download/v2.36.0/colab-cmdstan-2.36.0.tgz'\n",
    "if not os.path.exists(tgz_file):\n",
    "    urllib.request.urlretrieve(tgz_url, tgz_file)\n",
    "    shutil.unpack_archive(tgz_file)\n",
    "\n",
    "# Specify CmdStan location via environment variable\n",
    "os.environ['CMDSTAN'] = './cmdstan-2.36.0'\n",
    "# Check CmdStan path\n",
    "from cmdstanpy import CmdStanModel, cmdstan_path\n",
    "cmdstan_path()"
   ]
  },
  {
   "cell_type": "code",
   "execution_count": null,
   "metadata": {
    "executionInfo": {
     "elapsed": 3,
     "status": "ok",
     "timestamp": 1752271770090,
     "user": {
      "displayName": "Nicolò Foppa",
      "userId": "03766977134082314729"
     },
     "user_tz": 240
    },
    "id": "vyIhK0HQh3KF"
   },
   "outputs": [],
   "source": [
    "cont_zp = 700.0\n",
    "cont_slope = 5.0\n",
    "amplitude = 150.0\n",
    "width = 0.5\n",
    "center = 5.0\n",
    "\n",
    "# Next, a grid of wavelenght channels (assumed to have no uncertainty)\n",
    "wave = np.linspace(0,10,100)\n",
    "\n",
    "# The 'true' observations\n",
    "flux = amplitude*np.exp(-0.5*np.power(wave-center,2)/width**2) + \\\n",
    "       cont_zp + cont_slope*wave\n",
    "\n",
    "# The actual observations = true observations + Poisson noise\n",
    "obs_flux = np.random.poisson(flux)"
   ]
  },
  {
   "cell_type": "code",
   "execution_count": null,
   "metadata": {
    "id": "n51DKdvIiPV7"
   },
   "outputs": [],
   "source": [
    "%matplotlib inline\n",
    "from matplotlib.pyplot import subplots,plot,step,xlabel,ylabel,show,subplots\n",
    "fig,ax = subplots(1,1)\n",
    "ax.plot(wave, flux, 'r-')\n",
    "ax.step(wave, obs_flux, color='k')\n",
    "ax.set_xlabel('Wavelength (Angstroms)')\n",
    "ax.set_ylabel('Counts')"
   ]
  },
  {
   "cell_type": "code",
   "execution_count": null,
   "metadata": {
    "id": "3pfpgU97ieEn"
   },
   "outputs": [],
   "source": [
    "model_string = '/content/drive/MyDrive/Github_rep/alphaxbio/stan_compute/example.stan'\n",
    "with open(model_string, 'r') as fd:\n",
    "        print('\\n'.join(fd.read().splitlines()))"
   ]
  },
  {
   "cell_type": "code",
   "execution_count": null,
   "metadata": {
    "executionInfo": {
     "elapsed": 2,
     "status": "ok",
     "timestamp": 1752271796244,
     "user": {
      "displayName": "Nicolò Foppa",
      "userId": "03766977134082314729"
     },
     "user_tz": 240
    },
    "id": "_2APXZN1izME"
   },
   "outputs": [],
   "source": [
    "idata = dict(N=len(wave), wave=wave, flux=obs_flux)"
   ]
  },
  {
   "cell_type": "code",
   "execution_count": null,
   "metadata": {
    "id": "Oi6JjZAyjL3R"
   },
   "outputs": [],
   "source": [
    "from cmdstanpy import cmdstan_path, CmdStanModel\n",
    "import cmdstanpy\n",
    "\n",
    "# Compile example\n",
    "example_model = CmdStanModel(stan_file = model_string, force_compile=True)"
   ]
  },
  {
   "cell_type": "code",
   "execution_count": null,
   "metadata": {
    "id": "7LTixxdzWGnG"
   },
   "outputs": [],
   "source": [
    "# Condition on example data bernoulli.data.json\n",
    "example_fit = example_model.sample(data = idata, seed = 123);"
   ]
  },
  {
   "cell_type": "code",
   "execution_count": null,
   "metadata": {
    "colab": {
     "base_uri": "https://localhost:8080/",
     "height": 292
    },
    "executionInfo": {
     "elapsed": 188,
     "status": "ok",
     "timestamp": 1752271862557,
     "user": {
      "displayName": "Nicolò Foppa",
      "userId": "03766977134082314729"
     },
     "user_tz": 240
    },
    "id": "RqbVuDohnzKV",
    "outputId": "f6200c41-f69a-46a6-c420-026950ff37f6"
   },
   "outputs": [],
   "source": [
    "# Print a summary of the posterior sample\n",
    "example_fit.summary()"
   ]
  },
  {
   "cell_type": "code",
   "execution_count": null,
   "metadata": {
    "id": "Ikp-FX24o8ki"
   },
   "outputs": [],
   "source": [
    "def Gauss(x, amp, center, width, cont, slope):\n",
    "  return amp*np.exp(-0.5*np.power(x-center,2)/width**2) + cont +\\\n",
    "        slope*x\n",
    "\n",
    "mamp = np.median(example_fit.stan_variable('amp'))\n",
    "mcont = np.median(example_fit.stan_variable('cont'))\n",
    "mslope = np.median(example_fit.stan_variable('slope'))\n",
    "mcenter = np.median(example_fit.stan_variable('center'))\n",
    "mwidth = np.median(example_fit.stan_variable('width'))\n",
    "xx = np.linspace(wave.min(), wave.max(), 100)\n",
    "yy = Gauss(xx, mamp, mcenter,mwidth,mcont, mslope)\n",
    "ax.plot(xx, yy, '-', color='b')\n",
    "yys = [Gauss(xx, example_fit.stan_variable('amp')[ii*10], example_fit.stan_variable('center')[ii*10],\n",
    "             example_fit.stan_variable('width')[ii*10], example_fit.stan_variable('cont')[ii*10],\n",
    "             example_fit.stan_variable('slope')[ii*10]) \\\n",
    "             for ii in range(100)]\n",
    "sdy = np.std(yys, axis=0)\n",
    "ax.fill_between(xx, yy-3*sdy, yy+3*sdy, facecolor='k', alpha=0.4, zorder=10)\n",
    "fig"
   ]
  }
 ],
 "metadata": {
  "colab": {
   "authorship_tag": "ABX9TyPqmtXJuroOL1WopaEyIr11",
   "provenance": [
    {
     "file_id": "10--C6i3cIjXywuNieP-5TEAnRExmSmQt",
     "timestamp": 1752268711757
    }
   ]
  },
  "kernelspec": {
   "display_name": "Python 3",
   "name": "python3"
  },
  "language_info": {
   "name": "python"
  }
 },
 "nbformat": 4,
 "nbformat_minor": 0
}
